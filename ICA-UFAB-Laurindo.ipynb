{
 "cells": [
  {
   "cell_type": "code",
   "execution_count": 1,
   "metadata": {
    "collapsed": true
   },
   "outputs": [],
   "source": [
    "import numpy as np\n",
    "from numpy import tanh,exp,sqrt\n",
    "from numpy import max as npmax\n",
    "from numpy import abs as npabs\n",
    "from numpy import dot,diag,newaxis,zeros,array\n",
    "from numpy.random import randn\n",
    "from scipy.linalg import svd,qr,pinv2"
   ]
  },
  {
   "cell_type": "code",
   "execution_count": 2,
   "metadata": {
    "collapsed": true
   },
   "outputs": [],
   "source": [
    "def lc(x,alpha=1.0):\n",
    "    return tanh(alpha*x)"
   ]
  },
  {
   "cell_type": "code",
   "execution_count": 3,
   "metadata": {
    "collapsed": true
   },
   "outputs": [],
   "source": [
    "def lcp(x,alpha=1.0):\n",
    "    return alpha*(1.0 - tanh(alpha*x)**2)"
   ]
  },
  {
   "cell_type": "code",
   "execution_count": 4,
   "metadata": {
    "collapsed": true
   },
   "outputs": [],
   "source": [
    "def gauss(x,alpha=1.0):\n",
    "    return x*exp(-(alpha*x**2)/2.0)"
   ]
  },
  {
   "cell_type": "code",
   "execution_count": 5,
   "metadata": {
    "collapsed": true
   },
   "outputs": [],
   "source": [
    "def gaussp(x,alpha=1.0):\n",
    "    return (1.0 - alpha*x**2)*exp(-(alpha*x**2)/2.0)"
   ]
  },
  {
   "cell_type": "code",
   "execution_count": 6,
   "metadata": {
    "collapsed": true
   },
   "outputs": [],
   "source": [
    "def cube(x,alpha=1.0):\n",
    "    return x**3"
   ]
  },
  {
   "cell_type": "code",
   "execution_count": 7,
   "metadata": {
    "collapsed": true
   },
   "outputs": [],
   "source": [
    "def cubep(x,alpha=0.0):\n",
    "    return 3*x**2"
   ]
  },
  {
   "cell_type": "code",
   "execution_count": 8,
   "metadata": {
    "collapsed": true
   },
   "outputs": [],
   "source": [
    "def skew(x,alpha=0.0):\n",
    "    return x**2"
   ]
  },
  {
   "cell_type": "code",
   "execution_count": 9,
   "metadata": {
    "collapsed": true
   },
   "outputs": [],
   "source": [
    "def skewp(x,alpha=0.0):\n",
    "    return 2*x"
   ]
  },
  {
   "cell_type": "code",
   "execution_count": 10,
   "metadata": {
    "collapsed": true
   },
   "outputs": [],
   "source": [
    "def rowcenter(X):\n",
    "    rowmeans = X.mean(axis=-1)\n",
    "    return rowmeans, X - rowmeans[:, newaxis]"
   ]
  },
  {
   "cell_type": "code",
   "execution_count": 11,
   "metadata": {
    "collapsed": true
   },
   "outputs": [],
   "source": [
    "def whiteningmatrix(X,n):\n",
    "    if(n > X.shape[0]):\n",
    "        n = X.shape[0]\n",
    "    U,D,Vt = svd(dot(X,X.T)/X.shape[1],full_matrices=False)\n",
    "    return dot(diag(1.0/sqrt(D[0:n])),U[:,0:n].T),dot(U[:,0:n],diag(sqrt(D[0:n])))"
   ]
  },
  {
   "cell_type": "code",
   "execution_count": 12,
   "metadata": {
    "collapsed": true
   },
   "outputs": [],
   "source": [
    "def decorrelation_gs(w,W,p):\n",
    "    w = w - (W[0:p,:]*dot(W[0:p,:],w.T)[:,newaxis]).sum(axis=0)\n",
    "    w = w/sqrt(dot(w,w))\n",
    "    return w"
   ]
  },
  {
   "cell_type": "code",
   "execution_count": 13,
   "metadata": {
    "collapsed": true
   },
   "outputs": [],
   "source": [
    "def decorrelation_witer(W):\n",
    "    lim = 1.0\n",
    "    tol = 1.0e-05\n",
    "    W = W/(W**2).sum()\n",
    "    while lim > tol:\n",
    "        W1 = (3.0/2.0)*W - 0.5*dot(dot(W,W.T),W)\n",
    "        lim = npmax(npabs(npabs(diag(dot(W1,W.T))) - 1.0))\n",
    "        W = W1\n",
    "    return W"
   ]
  },
  {
   "cell_type": "code",
   "execution_count": 14,
   "metadata": {
    "collapsed": true
   },
   "outputs": [],
   "source": [
    "def decorrelation_mdum(W):\n",
    "    U,D,VT = svd(W)\n",
    "    Y = dot(dot(U,diag(1.0/D)),U.T)\n",
    "    return dot(Y,W)"
   ]
  },
  {
   "cell_type": "code",
   "execution_count": 15,
   "metadata": {
    "collapsed": true
   },
   "outputs": [],
   "source": [
    "def ica_def(X, tolerance, g, gprime, orthog, alpha, maxIterations, Winit):\n",
    "    n,p = X.shape\n",
    "    W = Winit\n",
    "    # j is the index of the extracted component\n",
    "    for j in xrange(n):\n",
    "        w = Winit[j, :]\n",
    "        it = 1\n",
    "        lim = tolerance + 1\n",
    "        while ((lim > tolerance) & (it < maxIterations)):\n",
    "            wtx = dot(w, X)\n",
    "            gwtx = g(wtx, alpha)\n",
    "            g_wtx = gprime(wtx, alpha)\n",
    "            w1 = (X * gwtx).mean(axis=1) - g_wtx.mean() * w\n",
    "            w1 = decorrelation_gs(w1, W, j)\n",
    "            lim = npabs(npabs((w1 * w).sum()) - 1.0)\n",
    "            w = w1\n",
    "            it = it + 1\n",
    "        W[j, :] = w\n",
    "    return W"
   ]
  },
  {
   "cell_type": "code",
   "execution_count": 16,
   "metadata": {
    "collapsed": true
   },
   "outputs": [],
   "source": [
    "def ica_par_fp(X, tolerance, g, gprime, orthog, alpha, maxIterations, Winit):\n",
    "    n,p = X.shape\n",
    "    W = orthog(Winit)\n",
    "    lim = tolerance + 1\n",
    "    it = 1\n",
    "    while ((lim > tolerance) and (it < maxIterations)):\n",
    "        wtx = dot(W,X)\n",
    "        gwtx = g(wtx,alpha)\n",
    "        g_wtx = gprime(wtx,alpha)\n",
    "        W1 = dot(gwtx,X.T)/p - dot(diag(g_wtx.mean(axis=1)),W)\n",
    "        W1 = orthog(W1)\n",
    "        lim = npmax(npabs(npabs(diag(dot(W1,W.T))) - 1.0))\n",
    "        W = W1\n",
    "        it = it + 1\n",
    "    return W"
   ]
  },
  {
   "cell_type": "code",
   "execution_count": 17,
   "metadata": {
    "collapsed": true
   },
   "outputs": [],
   "source": [
    "def ica(X, nSources=None, algorithm=\"parallel fp\", decorrelation=\"mdum\", nonlinearity=\"logcosh\", alpha=1.0, maxIterations=500, tolerance=1e-05, Winit=None, scaled=True):\n",
    "    algorithm_funcs = {'parallel fp':ica_par_fp, 'deflation':ica_def}\n",
    "    orthog_funcs = {'mdum': decorrelation_mdum, 'witer': decorrelation_witer}\n",
    "\n",
    "    if (alpha < 1) or (alpha > 2):\n",
    "        raise ValueError(\"alpha must be in [1,2]\")\n",
    "\n",
    "    if nonlinearity == 'logcosh':\n",
    "        g = lc\n",
    "        gprime = lcp\n",
    "    elif nonlinearity == 'exp':\n",
    "        g = gauss\n",
    "        gprime = gaussp\n",
    "    elif nonlinearity == 'skew':\n",
    "        g, gprime = skew, skewp\n",
    "    else:\n",
    "        g = cube\n",
    "        gprime = cubep\n",
    "    \n",
    "    nmix,nsamp = X.shape\n",
    "    \n",
    "    # default is to do full-rank decomposition\n",
    "    if nSources is None:\n",
    "        nSources = nmix\n",
    "    if Winit is None:    \n",
    "        # start with a random orthogonal decomposition\n",
    "        Winit = randn(nSources,nSources)\n",
    "\n",
    "    # preprocessing (centering/whitening/pca)\n",
    "    rowmeansX,X = rowcenter(X)\n",
    "    Kw,Kd = whiteningmatrix(X,nSources)\n",
    "    X = dot(Kw,X)\n",
    "\n",
    "    # pass through kwargs\n",
    "    kwargs = {'tolerance': tolerance,'g': g,'gprime': gprime,'orthog':orthog_funcs[decorrelation],'alpha': alpha,'maxIterations': maxIterations,'Winit': Winit}\n",
    "    func = algorithm_funcs[algorithm]\n",
    "    \n",
    "    # run ICA\n",
    "    W = func(X, **kwargs)\n",
    "\n",
    "    # consruct the sources - means are not restored\n",
    "    S = dot(W,X)\n",
    "\n",
    "    # mixing matrix\n",
    "    A = pinv2(dot(W,Kw))\n",
    "\n",
    "    if scaled == True:\n",
    "        S = S/S.std(axis=-1)[:,newaxis]\n",
    "        A = A*S.std(axis=-1)[newaxis,:]\n",
    "    \n",
    "    return A,W,S"
   ]
  },
  {
   "cell_type": "code",
   "execution_count": 18,
   "metadata": {
    "collapsed": true
   },
   "outputs": [],
   "source": [
    "teste = np.array([[ 7.,  0.,  2.,  5.,  0.],\n",
    "                  [ 8.,  0.,  1.,  0.,  0.],\n",
    "                  [ 3.,  0.,  0.,  4.,  1.]])\n",
    "    "
   ]
  },
  {
   "cell_type": "code",
   "execution_count": 19,
   "metadata": {
    "collapsed": true
   },
   "outputs": [],
   "source": [
    "a, b, c = ica(teste,2)"
   ]
  },
  {
   "cell_type": "code",
   "execution_count": 20,
   "metadata": {},
   "outputs": [
    {
     "name": "stdout",
     "output_type": "stream",
     "text": [
      "[[-0.65237002  2.6879162 ]\n",
      " [-2.51424488  1.8484751 ]\n",
      " [ 0.38236518  1.52654912]]\n"
     ]
    }
   ],
   "source": [
    "print (a)"
   ]
  },
  {
   "cell_type": "code",
   "execution_count": 21,
   "metadata": {},
   "outputs": [
    {
     "name": "stdout",
     "output_type": "stream",
     "text": [
      "[[ 0.5181301   0.85530182]\n",
      " [-0.85530182  0.5181301 ]]\n"
     ]
    }
   ],
   "source": [
    "print (b)"
   ]
  },
  {
   "cell_type": "code",
   "execution_count": 22,
   "metadata": {},
   "outputs": [
    {
     "name": "stdout",
     "output_type": "stream",
     "text": [
      "[[-1.54802496 -0.05182671 -0.18702471  1.58967481  0.19720157]\n",
      " [ 1.22428706 -1.0482024  -0.55192096  1.1946827  -0.8188464 ]]\n"
     ]
    }
   ],
   "source": [
    "print (c)"
   ]
  },
  {
   "cell_type": "code",
   "execution_count": null,
   "metadata": {
    "collapsed": true
   },
   "outputs": [],
   "source": []
  }
 ],
 "metadata": {
  "kernelspec": {
   "display_name": "Python 3",
   "language": "python",
   "name": "python3"
  },
  "language_info": {
   "codemirror_mode": {
    "name": "ipython",
    "version": 3
   },
   "file_extension": ".py",
   "mimetype": "text/x-python",
   "name": "python",
   "nbconvert_exporter": "python",
   "pygments_lexer": "ipython3",
   "version": "3.6.2"
  }
 },
 "nbformat": 4,
 "nbformat_minor": 2
}
